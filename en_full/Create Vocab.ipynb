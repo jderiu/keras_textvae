{
 "cells": [
  {
   "cell_type": "code",
   "execution_count": 15,
   "metadata": {
    "collapsed": false
   },
   "outputs": [
    {
     "name": "stdout",
     "output_type": "stream",
     "text": [
      "dict_keys(['name', 'eatType', 'priceRange', 'customer rating', 'near', 'food', 'area', 'familyFriendly'])\n",
      "{'name': 42061, 'eatType': 20111, 'priceRange': 29127, 'customer rating': 28090, 'near': 20546, 'food': 35126, 'area': 24716, 'familyFriendly': 26295}\n",
      "{'name': 34, 'eatType': 3, 'priceRange': 6, 'customer rating': 6, 'near': 19, 'food': 7, 'area': 2, 'familyFriendly': 2}\n",
      "[('the', 38), ('Next', 37), ('coffee', 36), ('Situated', 35), ('Family', 34), ('Yes', 33), ('Come', 32), ('Cheap', 31), ('This', 30), ('Customers', 29), ('Although', 28), ('there', 27), ('You', 26), ('Kid', 25), ('By', 24), ('Rated', 23), ('Riverside', 22), ('Low', 21), ('Offering', 20), ('High', 19), ('Highly', 18), ('Moderately', 17), ('At', 16), ('If', 15), ('Serving', 14), ('With', 13), ('Children', 12), ('The', 11), ('XFOODX', 10), ('On', 9), ('There', 8), ('Near', 7), ('An', 6), ('A', 5), ('In', 4), ('For', 3), ('Located', 2), ('Close', 1), ('XNAMEX', 0)]\n"
     ]
    }
   ],
   "source": [
    "import csv\n",
    "from nltk.tokenize.moses import MosesTokenizer\n",
    "#from nltk.stem import WordNetLemmatizer\n",
    "import pprint\n",
    "from collections import Counter, defaultdict\n",
    "import _pickle as cPickle\n",
    "\n",
    "reader = csv.DictReader(open('trainset.csv', 'rt', encoding='utf-8'))\n",
    "pp = pprint.PrettyPrinter(indent=4)\n",
    "#wordnet_lemmatizer = WordNetLemmatizer()\n",
    "tknzr = MosesTokenizer()\n",
    "references = []\n",
    "vocabulary = Counter()\n",
    "ovocabulary = defaultdict(lambda: [])\n",
    "\n",
    "first_words = defaultdict(lambda: 0)\n",
    "feature_vocabulary = defaultdict(lambda: defaultdict(lambda: Counter()))\n",
    "for row in reader:\n",
    "    i1 = row['mr']\n",
    "    i2 = row['ref']\n",
    "    \n",
    "    \n",
    "    #lem_toks = [wordnet_lemmatizer.lemmatize(tok) for tok in tokens]\n",
    "    name = ''\n",
    "    food = 'adsddass'\n",
    "    keywords = i1.split(',')\n",
    "    for keyword in keywords:\n",
    "        k_idx = keyword.find('[')\n",
    "        k = keyword[:k_idx].strip()\n",
    "        value = keyword[k_idx + 1: keyword.find(']')]\n",
    "        ovocabulary[k].append(value)\n",
    "        #feature_vocabulary[k][value].update(lem_toks)\n",
    "        if k == 'name':\n",
    "            name = value\n",
    "        if k == 'food':\n",
    "            food = value\n",
    "    \n",
    "    tokens = tknzr.tokenize(i2.replace(name, 'XNAMEX').replace(food, 'XFOODX'))\n",
    "    first_words[tokens[0]] += 1\n",
    "    #references.append(lem_toks)\n",
    "    vocabulary.update(tokens)\n",
    "\n",
    "    \n",
    "sorted_vocab = sorted(ovocabulary.items(), key=lambda x: len(x[1]), reverse=True)\n",
    "print(ovocabulary.keys())\n",
    "print({k: len(v) for k,v in ovocabulary.items()})\n",
    "print({k: len(set(v)) for k,v in ovocabulary.items()})    \n",
    "\n",
    "\n",
    "idx_counter = 0\n",
    "first_words_vocab = {}\n",
    "for x, freq in first_words.items():\n",
    "    if freq > 40:\n",
    "        first_words_vocab[x] = idx_counter\n",
    "        idx_counter += 1\n",
    "\n",
    "cPickle.dump(first_words_vocab, open('fw_vocab.pkl', 'wb'))\n",
    "print(sorted(first_words_vocab.items(), key= lambda x: x[1], reverse=True))     \n"
   ]
  },
  {
   "cell_type": "code",
   "execution_count": 53,
   "metadata": {
    "collapsed": false
   },
   "outputs": [
    {
     "name": "stdout",
     "output_type": "stream",
     "text": [
      "585\n",
      "[('.', 59079), ('is', 52713), ('a', 41469), ('The', 30884), ('the', 26694), (',', 22728), ('food', 20287), ('in', 18698), ('near', 18191), ('of', 17770), ('and', 17518), ('rating', 16388), ('friendly', 14988), ('customer', 14521), ('restaurant', 14163), ('price', 13350), ('It', 12965), ('located', 12367), ('5', 12056), ('riverside', 10915), ('ha', 10367), ('coffee', 10304), ('shop', 10023), ('range', 9586), ('out', 9090), ('with', 8867), ('city', 8317), ('family', 7420), ('centre', 7381), ('£', 6873), ('serf', 6750), ('that', 6710), ('high', 6664), ('pub', 6178), ('an', 6017), ('Café', 5598), ('child', 5392), ('average', 5347), ('not', 5344), ('low', 5286), ('Indian', 4907), ('area', 4855), ('Italian', 4825), ('than', 4739), ('Japanese', 4651), ('priced', 4560), ('kid', 4501), ('it', 4485), ('French', 4448), ('by', 4388), ('called', 4351), ('rated', 3979), ('cheap', 3918), ('Rice', 3902), ('Boat', 3888), ('for', 3634), ('to', 3606), ('family-friendly', 3512), ('at', 3412), ('fast', 3293), ('Cambridge', 3229), ('English', 3143), ('20', 3125), ('There', 3110), ('1', 3106), ('3', 3103), ('Golden', 3005), ('Chinese', 2926), ('Bar', 2835), ('offer', 2774), ('moderate', 2750), ('are', 2680), ('Waterman', 2680), ('30', 2643), ('le', 2594), ('star', 2289), ('more', 2234), ('place', 2195), ('Blue', 2160), ('Rouge', 2047), ('Curry', 2032), ('Holiday', 2021), ('Express', 2020), ('Inn', 2010), ('Fitzbillies', 2010), ('serving', 1982), ('but', 1937), ('Eagle', 1917), ('Riverside', 1907), ('20-25', 1784), ('Alimentum', 1773), ('Browns', 1770), ('moderately', 1743), ('A', 1697), ('Located', 1686), ('on', 1683), ('Strada', 1657), ('House', 1648), ('which', 1639), ('provides', 1602), ('One', 1586), ('Portland', 1584), ('Arms', 1582), ('&apos;s', 1578), ('Wrestlers', 1576), ('All', 1564), ('Phoenix', 1475), ('Fast', 1465), ('They', 1413), ('Loch', 1388), ('Fyne', 1384), ('Spice', 1378), ('you', 1342), ('Rainbow', 1318), ('Vegetarian', 1318), ('named', 1316), ('Near', 1303), ('Cotto', 1301), ('Noodle', 1282), ('Yippee', 1280), ('Punter', 1278), ('expensive', 1273), ('Burger', 1263), ('King', 1255), ('river', 1234), ('Plaza', 1219), ('Hotel', 1219), ('can', 1207), ('there', 1195), ('Twenty', 1193), ('Two', 1191), ('highly', 1189), ('Wildwood', 1185), ('In', 1184), ('Cocum', 1138), ('have', 1108), ('center', 1099), ('Vaults', 1091), ('Green', 1089), ('Man', 1085), ('Sicilia', 1060), ('Zizzi', 1058), ('Crowne', 1030), ('Ranch', 1010), ('Olive', 1008), ('Midsummer', 1007), ('Grove', 1004), ('Palace', 966), ('Its', 956), ('providing', 954), ('Aromi', 942), ('Bakers', 909), ('City', 900), ('Mill', 897), ('Clare', 888), ('Hall', 886), ('Dumpling', 845), ('Tree', 845), ('cuisine', 842), ('Sorrento', 820), ('be', 778), ('cost', 765), ('Clowns', 761), ('from', 743), ('Giraffe', 738), ('close', 723), ('For', 713), ('Plough', 710), ('Cricketers', 685), ('adult', 657), ('offering', 652), ('found', 644), ('Bibimbap', 639), ('Brazil', 637), ('This', 633), ('With', 630), ('sell', 628), ('also', 625), ('five', 618), ('establishment', 612), ('good', 610), ('sushi', 606), ('Cuisine', 592), ('venue', 582), ('Raja', 576), ('pound', 572), ('great', 572), ('serve', 564), ('meal', 559), ('Taste', 540), ('one', 529), ('they', 524), ('next', 523), ('Six', 520), ('Bells', 520), ('environment', 506), ('only', 496), ('25', 487), ('child-friendly', 485), ('If', 475), ('kid-friendly', 474), ('Adriatic', 450), ('very', 445), ('atmosphere', 440), ('Centre', 438), ('try', 429), ('situated', 423), ('Friendly', 422), ('find', 421), ('review', 393), ('wine', 378), ('inexpensive', 375), ('eat', 375), ('welcome', 374), ('Avalon', 369), ('&apos;t', 364), ('three', 359), ('non', 356), ('this', 351), ('Travellers', 349), ('Rest', 349), ('Beefeater', 345), ('received', 341), ('looking', 341), ('Customers', 328), ('eatery', 324), ('rate', 323), ('higher', 321), ('service', 317), ('Rating', 317), ('no', 307), ('high-priced', 302), ('between', 300), ('quality', 300), ('style', 295), ('north', 293), ('low-priced', 292), ('affordable', 290), ('children-friendly', 284), ('medium', 284), ('will', 279), ('Customer', 269), ('Food', 268), ('You', 265), ('over', 264), ('An', 263), ('your', 257), ('mid', 256), ('menu', 255), ('along', 252), ('&apos;', 252), ('go', 251), ('British', 248), ('get', 247), ('under', 242), ('location', 234), ('kids-friendly', 227), ('where', 226), ('doe', 225), ('served', 222), ('dining', 221), ('Prices', 219), ('suitable', 217), ('excellent', 215), ('cheese', 215), ('then', 212), ('their', 209), ('Pub', 204), ('been', 202), ('isn', 202), ('euro', 201), ('above', 201), ('20-', 197), ('yes', 196), ('Not', 192), ('Crown', 189), ('&apos;re', 184), ('ranging', 182), ('Range', 181), ('recommended', 178), ('name', 176), ('visit', 176), ('all', 175), ('drink', 173), ('just', 172), ('within', 169), ('Rated', 167), ('whole', 166), ('end', 163), ('poor', 161), ('Children', 161), ('dish', 161), ('Shop', 159), ('-', 159), ('reasonable', 159), ('well', 159), ('pricing', 153), ('however', 153), ('Their', 153), ('around', 152), ('At', 151), ('Family', 151), ('side', 150), ('burger', 148), ('given', 146), ('enjoy', 143), ('experience', 141), (';', 140), ('outside', 139), ('up', 138), ('moderately-priced', 137), ('we', 137), ('We', 136), ('breakfast', 135), ('costing', 133), ('reasonably', 132), ('mid-priced', 132), ('fast-food', 131), ('give', 129), ('nice', 127), ('Price', 124), ('known', 123), ('Although', 121), ('best', 119), ('Serving', 119), ('option', 118), ('pasta', 117), ('non-family-friendly', 115), ('I', 115), ('fare', 114), ('By', 114), ('pricey', 114), ('setting', 114), ('right', 112), ('or', 111), ('nearby', 111), ('High', 111), ('On', 110), ('averagely', 110), ('Yes', 110), ('take', 109), ('oriented', 109), ('being', 109), ('type', 107), ('want', 107), ('poorly', 106), ('down', 106), ('town', 105), ('some', 104), ('our', 104), ('bar', 101), ('satisfaction', 101), ('fine', 100), ('if', 100), ('wa', 99), ('fry', 99), ('delicious', 97), ('view', 97), ('friend', 95), ('available', 95), ('take-away', 93), ('check', 93), ('joint', 92), ('though', 91), ('budget', 91), ('allowed', 90), ('Close', 89), ('Cheap', 89), ('feature', 88), ('However', 87), ('come', 87), ('lower', 85), ('Kid', 84), ('one-star', 84), ('ranged', 83), ('Low', 83), ('would', 82), ('quite', 81), ('fairly', 81), ('variety', 81), ('Highly', 80), ('selling', 80), ('dine', 79), ('delivery', 79), ('receives', 78), ('considered', 78), ('per', 78), ('boast', 77), ('center.', 77), ('family-Friendly', 76), ('No', 76), ('about', 76), ('provide', 76), ('5-star', 75), ('traditional', 75), ('item', 75), ('mid-range', 75), ('below', 75), ('based', 75), ('choice', 74), ('so', 74), ('new', 74), ('food.', 73), ('decent', 73), ('too', 73), ('Come', 73), ('beside', 72), ('American', 72), ('bring', 72), ('although', 71), ('allow', 70), ('Average', 70), ('Families', 69), ('costumer', 68), ('low-cost', 67), ('low-rated', 67), ('conveniently', 66), ('Situated', 66), ('3-star', 66), ('Kids', 66), ('highly-rated', 65), ('River', 65), ('Child', 65), ('Is', 64), ('caters', 64), ('perfect', 64), ('head', 64), ('like', 63), ('popular', 62), ('five-star', 62), ('Next', 62), ('fair', 61), ('three-star', 61), ('point', 60), ('While', 60), ('eating', 60), ('middle', 60), ('dollar', 60), ('little', 60), ('delivers', 59), ('love', 58), (':', 58), ('pay', 57), ('Moderately', 57), ('cheaply', 57), ('value', 56), ('while', 55), ('twenty', 55), ('score', 55), ('amazing', 55), ('Sushi', 55), ('far', 54), ('starting', 53), ('Offering', 53), ('Euros', 53), ('outskirt', 52), ('do', 52), ('got', 52), ('earned', 52), ('public', 51), ('road', 50), ('non-family', 50), ('across', 50), ('had', 50), ('upscale', 49), ('high-end', 49), ('start', 48), ('local', 48), ('North', 48), ('age', 48), ('bad', 48), ('doesn', 47), ('full', 47), ('L20', 46), ('people', 46), ('house', 45), ('mid-price', 45), ('look', 45), ('cater', 45), ('bit', 45), ('home', 45), ('may', 45), ('away', 44), ('really', 44), ('1-star', 44), ('recommend', 44), ('Our', 44), ('average-priced', 43), ('specializes', 43), ('u', 43), ('Try', 43), ('slightly', 43), ('server', 42), ('worth', 42), ('spend', 42), ('yet', 41), ('both', 41), ('Asian', 41), ('ideal', 41), ('who', 40), ('spirit', 40), ('because', 40), ('&apos;ll', 40), ('Looking', 40), ('featuring', 40), ('Along', 39), ('could', 39), ('those', 38), ('L30', 38), ('selection', 38), ('beautiful', 38), ('small', 38), ('other', 38), ('should', 37), ('having', 37), ('rank', 37), ('typically', 37), ('night', 37), ('even', 37), ('don', 37), ('hamburger', 36), ('make', 36), ('money', 36), ('lovely', 35), ('Check', 35), ('expect', 35), ('top', 34), ('outlet', 34), ('pretty', 34), ('beverage', 34), ('off', 33), ('placed', 33), ('person', 33), ('lowly', 32), ('usually', 32), ('ranked', 32), ('L20-25', 32), ('rating.', 31), ('store', 31), ('costly', 31), ('non-children', 31), ('Enjoy', 31), ('Has', 31), ('non-kid', 31), ('sited', 31), ('moderate-priced', 30), ('sits', 30), ('Though', 30), ('here', 30), ('spot', 29), ('quick', 29), ('Visit', 29), ('spaghetti', 29), ('low-price', 29), ('what', 29), ('fruit', 29), ('further', 28), ('Welcome', 28), ('outstanding', 28), ('riverside.', 28), ('Found', 28), ('stop', 28), ('average-rated', 28), ('sure', 28), ('wide', 27), ('high-rated', 27), ('neat', 27), ('bracket', 27), ('reviewed', 27), ('bank', 27), ('them', 27), ('eats', 27), ('offered', 27), ('generally', 26), ('non-child', 26), ('fantastic', 26), ('Find', 26), ('range.', 26), ('consumer', 26), ('dinner', 26), ('allows', 26), ('fall', 26), ('friendly.', 26), ('Have', 26), ('aren', 26)]\n"
     ]
    }
   ],
   "source": [
    "reduced_vocab = [(v, f) for v,f in vocabulary.items() if f > 25]\n",
    "print(len(reduced_vocab))\n",
    "print(sorted(reduced_vocab, key=lambda x: x[1], reverse=True))"
   ]
  },
  {
   "cell_type": "code",
   "execution_count": 57,
   "metadata": {
    "collapsed": false
   },
   "outputs": [
    {
     "name": "stdout",
     "output_type": "stream",
     "text": [
      "{'name': {'Bibimbap House', 'The Cricketers', 'Browns Cambridge', 'Fitzbillies', 'The Golden Curry', 'The Rice Boat', 'The Punter', 'Loch Fyne', 'Cocum', 'The Olive Grove', 'The Vaults', 'The Cambridge Blue', 'The Plough', 'Cotto', 'The Eagle', 'Taste of Cambridge', 'The Dumpling Tree', 'Zizzi', 'The Mill', 'The Golden Palace', 'Strada', 'Travellers Rest Beefeater', 'The Waterman', 'Aromi', 'Alimentum', 'Giraffe', 'Midsummer House', 'Clowns', 'Green Man', 'The Twenty Two', 'The Wrestlers', 'Blue Spice', 'Wildwood', 'The Phoenix'}, 'eatType': {'restaurant', 'pub', 'coffee shop'}, 'priceRange': {'cheap', 'less than £20', 'moderate', '£20-25', 'high', 'more than £30'}, 'customer rating': {'3 out of 5', '5 out of 5', '1 out of 5', 'high', 'average', 'low'}, 'near': {'The Rice Boat', 'The Six Bells', 'Yippee Noodle Bar', 'The Sorrento', 'Café Sicilia', 'Rainbow Vegetarian Café', 'Avalon', 'Café Rouge', 'Express by Holiday Inn', 'Café Brazil', 'Café Adriatic', 'Clare Hall', 'The Bakers', 'The Portland Arms', 'Ranch', 'All Bar One', 'Crowne Plaza Hotel', 'Burger King', 'Raja Indian Cuisine'}, 'food': {'English', 'Fast food', 'French', 'Italian', 'Chinese', 'Japanese', 'Indian'}, 'area': {'riverside', 'city centre'}, 'familyFriendly': {'yes', 'no'}}\n"
     ]
    }
   ],
   "source": [
    "feature_domain = {k: set(v) for k,v in ovocabulary.items()}\n",
    "print(feature_domain)"
   ]
  },
  {
   "cell_type": "code",
   "execution_count": 67,
   "metadata": {
    "collapsed": false
   },
   "outputs": [
    {
     "data": {
      "text/plain": [
       "[('.', 14292),\n",
       " ('is', 13462),\n",
       " ('a', 8911),\n",
       " ('The', 6799),\n",
       " ('the', 6279),\n",
       " (',', 5486),\n",
       " ('not', 5134),\n",
       " ('in', 4716),\n",
       " ('and', 4558),\n",
       " ('food', 4548)]"
      ]
     },
     "execution_count": 67,
     "metadata": {},
     "output_type": "execute_result"
    }
   ],
   "source": [
    "feature_vocabulary['familyFriendly']['no'].most_common(10)"
   ]
  },
  {
   "cell_type": "code",
   "execution_count": 102,
   "metadata": {
    "collapsed": true
   },
   "outputs": [],
   "source": [
    "feature_vocabulary_rel  = defaultdict(lambda: defaultdict(lambda: Counter()))\n",
    "\n",
    "for feautre, values in feature_vocabulary.items():\n",
    "    for value, tokens in values.items():\n",
    "        for token, freq in tokens.most_common(25):\n",
    "            feature_vocabulary_rel[feautre][value][token] = freq/vocabulary[token]\n",
    "    \n"
   ]
  },
  {
   "cell_type": "code",
   "execution_count": 104,
   "metadata": {
    "collapsed": false
   },
   "outputs": [
    {
     "data": {
      "text/plain": [
       "[('30', 0.996594778660613),\n",
       " ('more', 0.9713518352730528),\n",
       " ('than', 0.45326018147288455),\n",
       " ('£', 0.32082060235704934),\n",
       " ('child', 0.269473293768546),\n",
       " ('range', 0.18057583976632588),\n",
       " ('price', 0.17340823970037453),\n",
       " ('coffee', 0.13480201863354038),\n",
       " ('and', 0.12695513186436808),\n",
       " (',', 0.12565997888067582),\n",
       " ('a', 0.1224288022378162),\n",
       " ('friendly', 0.11949559647718175),\n",
       " ('the', 0.11879073949202068),\n",
       " ('is', 0.11740936770815548),\n",
       " ('.', 0.11669121007464581),\n",
       " ('near', 0.11555164641855863),\n",
       " ('in', 0.1150390416087282),\n",
       " ('It', 0.11407635942923255),\n",
       " ('located', 0.11280019406485),\n",
       " ('The', 0.1116435694858179),\n",
       " ('customer', 0.1073617519454583),\n",
       " ('restaurant', 0.10541551931088046),\n",
       " ('rating', 0.10263607517695875),\n",
       " ('of', 0.10236353404614519),\n",
       " ('food', 0.0938532064869128)]"
      ]
     },
     "execution_count": 104,
     "metadata": {},
     "output_type": "execute_result"
    }
   ],
   "source": [
    "feature_vocabulary_rel['priceRange']['more than £30'].most_common(100)"
   ]
  },
  {
   "cell_type": "code",
   "execution_count": null,
   "metadata": {
    "collapsed": true
   },
   "outputs": [],
   "source": []
  }
 ],
 "metadata": {
  "kernelspec": {
   "display_name": "Python 3",
   "language": "python",
   "name": "python3"
  },
  "language_info": {
   "codemirror_mode": {
    "name": "ipython",
    "version": 3
   },
   "file_extension": ".py",
   "mimetype": "text/x-python",
   "name": "python",
   "nbconvert_exporter": "python",
   "pygments_lexer": "ipython3",
   "version": "3.6.0"
  }
 },
 "nbformat": 4,
 "nbformat_minor": 2
}
