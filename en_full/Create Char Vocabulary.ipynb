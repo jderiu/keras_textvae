{
 "cells": [
  {
   "cell_type": "code",
   "execution_count": 15,
   "metadata": {
    "collapsed": false
   },
   "outputs": [
    {
     "name": "stdout",
     "output_type": "stream",
     "text": [
      "0123456789abcdefghijklmnopqrstuvwxyzABCDEFGHIJKLMNOPQRSTUVWXYZ!\"#$%&'()*+,-./:;<=>?@[\\]^_`{|}~ \t\n",
      "\u000b",
      "\f",
      "\n",
      "102\n"
     ]
    }
   ],
   "source": [
    "import csv\n",
    "from collections import Counter, defaultdict\n",
    "import string\n",
    "import _pickle as cPickle\n",
    "\n",
    "print(string.printable)\n",
    "vocabulary = set()\n",
    "for c in string.printable:\n",
    "    vocabulary.add(c)\n",
    "    idx += 1\n",
    "\n",
    "reader = csv.DictReader(open('trainset.csv', 'rt', encoding='utf-8'))\n",
    "\n",
    "corpus_freq_vocab = defaultdict(lambda : 0)\n",
    "for row in reader:\n",
    "    i2 = row['ref']\n",
    "    for c in i2:\n",
    "        corpus_freq_vocab [c] += 1\n",
    "        \n",
    "vocabulary = vocabulary.union(corpus_freq_vocab.keys())\n",
    "print(len(vocabulary))\n",
    "\n",
    "vocab = {}\n",
    "for i, c in enumerate(vocabulary):\n",
    "    vocab[c] = i\n",
    "    \n",
    "f = open('vocabulary.pkl', 'wb')\n",
    "cPickle.dump(vocab, f)\n",
    "f.close()"
   ]
  },
  {
   "cell_type": "code",
   "execution_count": null,
   "metadata": {
    "collapsed": true
   },
   "outputs": [],
   "source": []
  }
 ],
 "metadata": {
  "kernelspec": {
   "display_name": "Python 3",
   "language": "python",
   "name": "python3"
  },
  "language_info": {
   "codemirror_mode": {
    "name": "ipython",
    "version": 3
   },
   "file_extension": ".py",
   "mimetype": "text/x-python",
   "name": "python",
   "nbconvert_exporter": "python",
   "pygments_lexer": "ipython3",
   "version": "3.6.0"
  }
 },
 "nbformat": 4,
 "nbformat_minor": 2
}
